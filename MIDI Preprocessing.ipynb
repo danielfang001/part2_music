{
 "cells": [
  {
   "cell_type": "markdown",
   "metadata": {},
   "source": [
    "## Preprocess MIDI music data into trainable sequences."
   ]
  },
  {
   "cell_type": "code",
   "execution_count": 13,
   "metadata": {},
   "outputs": [],
   "source": [
    "import glob\n",
    "import pickle\n",
    "import numpy as np\n",
    "from music21 import converter, instrument, note, chord\n",
    "from keras.models import Sequential\n",
    "from keras.layers import Dense\n",
    "from keras.layers import Dropout\n",
    "from keras.layers import LSTM, CuDNNLSTM\n",
    "from keras.layers import Activation\n",
    "from keras.layers import BatchNormalization as BatchNorm\n",
    "from keras.utils import np_utils\n",
    "from keras.callbacks import ModelCheckpoint"
   ]
  },
  {
   "cell_type": "code",
   "execution_count": 2,
   "metadata": {},
   "outputs": [],
   "source": [
    "def get_notes():\n",
    "    \"\"\" Get all the notes and chords from the midi files in the ./midi_songs directory \"\"\"\n",
    "    notes = []\n",
    "\n",
    "    for file in glob.glob(\"data/*.mid\"):\n",
    "        midi = converter.parse(file)\n",
    "\n",
    "        print(\"Parsing %s\" % file)\n",
    "\n",
    "        notes_to_parse = None\n",
    "\n",
    "        try: # file has instrument parts\n",
    "            s2 = instrument.partitionByInstrument(midi)\n",
    "            notes_to_parse = s2.parts[0].recurse() #we only interested in the first instrument part, which is\n",
    "                                                   #usually the melody part\n",
    "        except: # file has notes in a flat structure\n",
    "            notes_to_parse = midi.flat.notes #there's no different instrument allocations\n",
    "\n",
    "        for element in notes_to_parse:\n",
    "            if isinstance(element, note.Note): #single note\n",
    "                notes.append(str(element.pitch))\n",
    "            elif isinstance(element, chord.Chord): #a chord, multiple notes make sounds at the same time\n",
    "                notes.append('.'.join(str(n) for n in element.normalOrder)) #eg. C major chord \n",
    "                #in root position is (C.E.G)\n",
    "    \n",
    "    \n",
    "    notes = np.array(notes) #we basically encode each music piece as a sequence of values (midi pitch values \n",
    "    # of notes and chords), it's like a sequence of text in many ways. We will then be able to use the similar \n",
    "    # method to generate MIDI format music!\n",
    "    np.save('notes.npy', notes) #save the data so that they can be uploaded to Google Colab\n",
    "\n",
    "    return notes"
   ]
  },
  {
   "cell_type": "code",
   "execution_count": 3,
   "metadata": {},
   "outputs": [
    {
     "name": "stdout",
     "output_type": "stream",
     "text": [
      "Parsing data/sonate_32_(c)hisamori.mid\n",
      "Parsing data/sonate_16_(c)hisamori.mid\n",
      "Parsing data/sonate_24_(c)hisamori.mid\n",
      "Parsing data/sonate_19_(c)hisamori.mid\n",
      "Parsing data/sonate_07_(c)hisamori.mid\n",
      "Parsing data/sonate_23_(c)hisamori.mid\n",
      "Parsing data/sonate_11_(c)hisamori.mid\n",
      "Parsing data/sonate_08_(c)hisamori.mid\n",
      "Parsing data/sonate_06_(c)hisamori.mid\n",
      "Parsing data/sonate_22_(c)hisamori.mid\n",
      "Parsing data/sonate_10_(c)hisamori.mid\n",
      "Parsing data/sonate_09_(c)hisamori.mid\n",
      "Parsing data/sonate_17_(c)hisamori.mid\n",
      "Parsing data/sonate_25_(c)hisamori.mid\n",
      "Parsing data/sonate_18_(c)hisamori.mid\n",
      "Parsing data/sonate_01_(c)hisamori.mid\n",
      "Parsing data/sonate_20_(c)hisamori.mid\n",
      "Parsing data/sonate_04_(c)hisamori.mid\n",
      "Parsing data/sonate_12_(c)hisamori.mid\n",
      "Parsing data/sonate_28_(c)hisamori.mid\n",
      "Parsing data/sonate_15_(c)hisamori.mid\n",
      "Parsing data/sonatina_woo50_(c)hisamori.mid\n",
      "Parsing data/sonate_31_(c)hisamori.mid\n",
      "Parsing data/sonate_03_(c)hisamori.mid\n",
      "Parsing data/sonate_27_(c)hisamori.mid\n",
      "Parsing data/sonate_29_(c)hisamori.mid\n",
      "Parsing data/sonate_14_(c)hisamori.mid\n",
      "Parsing data/sonate_30_(c)hisamori.mid\n",
      "Parsing data/sonate_02_(c)hisamori.mid\n",
      "Parsing data/sonate_26_(c)hisamori.mid\n",
      "Parsing data/sonate_21_(c)hisamori.mid\n",
      "Parsing data/sonate_05_(c)hisamori.mid\n",
      "Parsing data/sonate_13_(c)hisamori.mid\n"
     ]
    },
    {
     "data": {
      "text/plain": [
       "array(['3', '6', 'E-5', ..., 'E-4', '7.10', '3.7.10'], dtype='<U10')"
      ]
     },
     "execution_count": 3,
     "metadata": {},
     "output_type": "execute_result"
    }
   ],
   "source": [
    "get_notes() #The midi files are the 32 piano sonatas Beethoven composed throughout his life. These sonatas\n",
    "#are the equivalent New Testiments in piano literatures."
   ]
  },
  {
   "cell_type": "code",
   "execution_count": null,
   "metadata": {},
   "outputs": [],
   "source": []
  }
 ],
 "metadata": {
  "kernelspec": {
   "display_name": "Python 3",
   "language": "python",
   "name": "python3"
  },
  "language_info": {
   "codemirror_mode": {
    "name": "ipython",
    "version": 3
   },
   "file_extension": ".py",
   "mimetype": "text/x-python",
   "name": "python",
   "nbconvert_exporter": "python",
   "pygments_lexer": "ipython3",
   "version": "3.7.3"
  }
 },
 "nbformat": 4,
 "nbformat_minor": 2
}
